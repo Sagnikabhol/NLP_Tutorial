{
  "nbformat": 4,
  "nbformat_minor": 0,
  "metadata": {
    "colab": {
      "provenance": [],
      "authorship_tag": "ABX9TyP+ewOv+IeM9OzGBPJl+mis",
      "include_colab_link": true
    },
    "kernelspec": {
      "name": "python3",
      "display_name": "Python 3"
    },
    "language_info": {
      "name": "python"
    }
  },
  "cells": [
    {
      "cell_type": "markdown",
      "metadata": {
        "id": "view-in-github",
        "colab_type": "text"
      },
      "source": [
        "<a href=\"https://colab.research.google.com/github/Sagnikabhol/NLP_Tutorial/blob/main/NLP_Tutorial.ipynb\" target=\"_parent\"><img src=\"https://colab.research.google.com/assets/colab-badge.svg\" alt=\"Open In Colab\"/></a>"
      ]
    },
    {
      "cell_type": "code",
      "execution_count": 6,
      "metadata": {
        "colab": {
          "base_uri": "https://localhost:8080/"
        },
        "id": "KwG84Ft5ImLP",
        "outputId": "03cf0968-aa35-43af-e559-2971b2055d33"
      },
      "outputs": [
        {
          "output_type": "stream",
          "name": "stdout",
          "text": [
            "Found a match: am\n"
          ]
        }
      ],
      "source": [
        "import re\n",
        "text = \"i am a data scientist\"\n",
        "pattern = \"am\"\n",
        "\n",
        "match = re.search(pattern, text)\n",
        "if match:\n",
        "    print(\"Found a match:\",match.group())\n",
        "else: # Fixed: Aligned 'else' with 'if' indentation.\n",
        "    print(\"No match found.\")\n",
        ""
      ]
    },
    {
      "cell_type": "code",
      "source": [
        "text = \"i am a data scientist\"\n",
        "pattern = \"analyst\"\n",
        "replacement = \"scientist\"\n",
        "\n",
        "new_text = re.sub(pattern, replacement, text)\n",
        "print(\"originl text:\", text)\n",
        "print(\"New text:\",new_text)\n",
        ""
      ],
      "metadata": {
        "colab": {
          "base_uri": "https://localhost:8080/"
        },
        "id": "q-DnwxhAJ8Xq",
        "outputId": "f968672a-395a-4900-ae3a-0117d6c9b474"
      },
      "execution_count": 7,
      "outputs": [
        {
          "output_type": "stream",
          "name": "stdout",
          "text": [
            "originl text: i am a data scientist\n",
            "New text: i am a data scientist\n"
          ]
        }
      ]
    },
    {
      "cell_type": "code",
      "source": [
        "test1 = \"Hey ,this is best : for! us;\"\n",
        "print(\"The original string is : \" + test1)\n",
        "res = re.sub(r'[^\\w\\s]', '',test1)\n",
        "print(\"The string after punctuation filter : \" + res)\n"
      ],
      "metadata": {
        "colab": {
          "base_uri": "https://localhost:8080/"
        },
        "id": "vme7qqo7LIha",
        "outputId": "aa41bd66-9447-4d9e-caa7-a8d9bca13cfb"
      },
      "execution_count": 9,
      "outputs": [
        {
          "output_type": "stream",
          "name": "stdout",
          "text": [
            "The original string is : Hey ,this is best : for! us;\n",
            "The string after punctuation filter : Hey this is best  for us\n"
          ]
        }
      ]
    },
    {
      "cell_type": "code",
      "source": [
        "import nltk\n",
        "nltk.download('punkt_tab') #download the punkt tokenizer data\n",
        "text = \"This is an example sentence.Another sentece is here .\"\n",
        "tokens = nltk.word_tokenize(text)\n",
        "\n",
        "print(tokens)"
      ],
      "metadata": {
        "colab": {
          "base_uri": "https://localhost:8080/"
        },
        "id": "myqTvQdoL3Tj",
        "outputId": "f83f8add-c27e-4286-cef1-6afa80bf365e"
      },
      "execution_count": 16,
      "outputs": [
        {
          "output_type": "stream",
          "name": "stderr",
          "text": [
            "[nltk_data] Downloading package punkt_tab to /root/nltk_data...\n",
            "[nltk_data]   Unzipping tokenizers/punkt_tab.zip.\n"
          ]
        },
        {
          "output_type": "stream",
          "name": "stdout",
          "text": [
            "['This', 'is', 'an', 'example', 'sentence.Another', 'sentece', 'is', 'here', '.']\n"
          ]
        }
      ]
    },
    {
      "cell_type": "code",
      "source": [
        "text = \"This is the first sentence. This is the second sentence. This is the third sentence.\"\n",
        "sentences = nltk.sent_tokenize(text)\n",
        "print(sentences)\n",
        ""
      ],
      "metadata": {
        "colab": {
          "base_uri": "https://localhost:8080/"
        },
        "id": "w1CE4xQtOgmj",
        "outputId": "3931df12-0d9c-4021-e08c-edbd04ad8d40"
      },
      "execution_count": 18,
      "outputs": [
        {
          "output_type": "stream",
          "name": "stdout",
          "text": [
            "['This is the first sentence.', 'This is the second sentence.', 'This is the third sentence.']\n"
          ]
        }
      ]
    },
    {
      "cell_type": "code",
      "source": [
        "from nltk .util  import ngrams\n",
        "text = \"The quick brown fox jumps the lazy dog.\"\n",
        "tokens = nltk.word_tokenize(text)\n",
        "bigrams = list(ngrams(tokens, 2))\n",
        "trigrams = list(ngrams(tokens, 3))\n",
        "print (\"Original text:\", text)\n",
        "print(\"Tokens:\",tokens)\n",
        "print(\"Bigrams:\",bigrams)\n",
        "print(\"Trigrams:\",trigrams)"
      ],
      "metadata": {
        "colab": {
          "base_uri": "https://localhost:8080/"
        },
        "id": "0XKX6mrvPkNC",
        "outputId": "a5645f53-d9b4-473e-8bde-59e60d05c70b"
      },
      "execution_count": 23,
      "outputs": [
        {
          "output_type": "stream",
          "name": "stdout",
          "text": [
            "Original text: The quick brown fox jumps the lazy dog.\n",
            "Tokens: ['The', 'quick', 'brown', 'fox', 'jumps', 'the', 'lazy', 'dog', '.']\n",
            "Bigrams: [('The', 'quick'), ('quick', 'brown'), ('brown', 'fox'), ('fox', 'jumps'), ('jumps', 'the'), ('the', 'lazy'), ('lazy', 'dog'), ('dog', '.')]\n",
            "Trigrams: [('The', 'quick', 'brown'), ('quick', 'brown', 'fox'), ('brown', 'fox', 'jumps'), ('fox', 'jumps', 'the'), ('jumps', 'the', 'lazy'), ('the', 'lazy', 'dog'), ('lazy', 'dog', '.')]\n"
          ]
        }
      ]
    },
    {
      "cell_type": "code",
      "source": [
        "from nltk.stem import PorterStemmer\n",
        "stemmer = PorterStemmer()\n",
        "word = \"running\"\n",
        "stemmed_word = stemmer.stem(word)\n",
        "\n",
        "print(\"Stemmed_word:\", stemmed_word) #output:run"
      ],
      "metadata": {
        "colab": {
          "base_uri": "https://localhost:8080/"
        },
        "id": "FNqDKxhfRPmX",
        "outputId": "333ff76b-2cc9-4fbf-fe1c-e9452644a27c"
      },
      "execution_count": 30,
      "outputs": [
        {
          "output_type": "stream",
          "name": "stdout",
          "text": [
            "Stemmed_word: run\n"
          ]
        }
      ]
    },
    {
      "cell_type": "code",
      "source": [
        "import nltk\n",
        "nltk.download('omw-1.4')\n",
        "from nltk.stem import WordNetLemmatizer\n",
        "nltk.download('wordnet')\n",
        "lemmatizer = WordNetLemmatizer()\n",
        "word = \"running\"\n",
        "lemma_word = lemmatizer.lemmatize(word, pos=\"v\")\n",
        "print(lemma_word) #ouput:run"
      ],
      "metadata": {
        "colab": {
          "base_uri": "https://localhost:8080/"
        },
        "id": "hX7vvWPWSGUr",
        "outputId": "0895db00-73f2-4cdc-f129-b7b73bc633c2"
      },
      "execution_count": 31,
      "outputs": [
        {
          "output_type": "stream",
          "name": "stderr",
          "text": [
            "[nltk_data] Downloading package omw-1.4 to /root/nltk_data...\n",
            "[nltk_data] Downloading package wordnet to /root/nltk_data...\n"
          ]
        },
        {
          "output_type": "stream",
          "name": "stdout",
          "text": [
            "run\n"
          ]
        }
      ]
    },
    {
      "cell_type": "code",
      "source": [
        "from nltk.corpus import stopwords\n",
        "nltk.download('stopwords')\n",
        "stopwords = stopwords.words('english')\n",
        "text = \"This is an example sentence that includes stopwords.\"\n",
        "tokens = nltk.word_tokenize(text)\n",
        "filtered_tokens = [word for word in tokens if not word.lower() in stopwords]\n",
        "filtered_text = ' '.join(filtered_tokens)\n",
        "print(\"data\",filtered_text) #output: example sentence includes stop word\n"
      ],
      "metadata": {
        "colab": {
          "base_uri": "https://localhost:8080/"
        },
        "id": "A_3PiI-AS4hX",
        "outputId": "d9b797cd-9290-49af-cc6b-f27a0b896022"
      },
      "execution_count": 37,
      "outputs": [
        {
          "output_type": "stream",
          "name": "stdout",
          "text": [
            "data example sentence includes stopwords .\n"
          ]
        },
        {
          "output_type": "stream",
          "name": "stderr",
          "text": [
            "[nltk_data] Downloading package stopwords to /root/nltk_data...\n",
            "[nltk_data]   Package stopwords is already up-to-date!\n"
          ]
        }
      ]
    },
    {
      "cell_type": "code",
      "source": [
        "from nltk.tokenize import word_tokenize\n",
        "nltk.download('averaged_perceptron_tagger_eng')\n",
        "text = \"This quick brown fox jumps over the lazy dog.\"\n",
        "tokens = word_tokenize(text)\n",
        "pos_tags = nltk.pos_tag(tokens)\n",
        "print(pos_tags) #output: [('This', 'DT'), ('is', 'VBZ'), ('an"
      ],
      "metadata": {
        "colab": {
          "base_uri": "https://localhost:8080/"
        },
        "id": "61VqDi-CUv3l",
        "outputId": "19758aba-c3a9-4b96-b7d3-d1ea247ccaf8"
      },
      "execution_count": 40,
      "outputs": [
        {
          "output_type": "stream",
          "name": "stderr",
          "text": [
            "[nltk_data] Downloading package averaged_perceptron_tagger_eng to\n",
            "[nltk_data]     /root/nltk_data...\n",
            "[nltk_data]   Unzipping taggers/averaged_perceptron_tagger_eng.zip.\n"
          ]
        },
        {
          "output_type": "stream",
          "name": "stdout",
          "text": [
            "[('This', 'DT'), ('quick', 'JJ'), ('brown', 'NN'), ('fox', 'NN'), ('jumps', 'VBZ'), ('over', 'IN'), ('the', 'DT'), ('lazy', 'JJ'), ('dog', 'NN'), ('.', '.')]\n"
          ]
        }
      ]
    },
    {
      "cell_type": "code",
      "source": [
        "#NER\n",
        "from nltk import pos_tag, ne_chunk\n",
        "nltk.download('maxent_ne_chunker')\n",
        "nltk.download('words')\n",
        "# The line below is the fix for this error.\n",
        "nltk.download('maxent_ne_chunker_tab')\n",
        "#define the text\n",
        "text = \"Apple Inc. is headquartered in Cupertino, California.\"\n",
        "#tokenize the text\n",
        "tokens = word_tokenize(text)\n",
        "tagged = pos_tag(tokens)\n",
        "ne = ne_chunk (tagged)\n",
        "for chunk in ne:\n",
        "  if hasattr(chunk, 'label'):\n",
        "    print(chunk.label(), ' '.join(c[0] for c in chunk))"
      ],
      "metadata": {
        "colab": {
          "base_uri": "https://localhost:8080/"
        },
        "id": "F73LbOPuWYNo",
        "outputId": "4cc1ce19-56e6-43af-c7b2-92470edde0b3"
      },
      "execution_count": 42,
      "outputs": [
        {
          "output_type": "stream",
          "name": "stderr",
          "text": [
            "[nltk_data] Downloading package maxent_ne_chunker to\n",
            "[nltk_data]     /root/nltk_data...\n",
            "[nltk_data]   Package maxent_ne_chunker is already up-to-date!\n",
            "[nltk_data] Downloading package words to /root/nltk_data...\n",
            "[nltk_data]   Package words is already up-to-date!\n",
            "[nltk_data] Downloading package maxent_ne_chunker_tab to\n",
            "[nltk_data]     /root/nltk_data...\n",
            "[nltk_data]   Unzipping chunkers/maxent_ne_chunker_tab.zip.\n"
          ]
        },
        {
          "output_type": "stream",
          "name": "stdout",
          "text": [
            "PERSON Apple\n",
            "ORGANIZATION Inc.\n",
            "GPE Cupertino\n",
            "GPE California\n"
          ]
        }
      ]
    },
    {
      "cell_type": "code",
      "source": [
        "from nltk.sentiment import SentimentIntensityAnalyzer\n",
        "nltk.download('vader_lexicon')\n",
        "sid = SentimentIntensityAnalyzer()\n",
        "text = \"I hate this product it would not work prefectly and i would defiinitely recommend it to anyone.\"\n",
        "scores = sid.polarity_scores(text)\n",
        "print(scores)\n"
      ],
      "metadata": {
        "colab": {
          "base_uri": "https://localhost:8080/"
        },
        "id": "ZAWbEV0uYAyJ",
        "outputId": "4063b8d9-675c-4d83-fa09-b8a3afc651e8"
      },
      "execution_count": 44,
      "outputs": [
        {
          "output_type": "stream",
          "name": "stdout",
          "text": [
            "{'neg': 0.193, 'neu': 0.677, 'pos': 0.13, 'compound': -0.296}\n"
          ]
        },
        {
          "output_type": "stream",
          "name": "stderr",
          "text": [
            "[nltk_data] Downloading package vader_lexicon to /root/nltk_data...\n",
            "[nltk_data]   Package vader_lexicon is already up-to-date!\n"
          ]
        }
      ]
    }
  ]
}